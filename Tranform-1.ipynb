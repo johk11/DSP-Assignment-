{
 "cells": [
  {
   "cell_type": "code",
   "execution_count": 17,
   "metadata": {
    "collapsed": false,
    "scrolled": true
   },
   "outputs": [],
   "source": [
    "import random\n",
    "import numpy as np\n",
    "import math\n",
    "import matplotlib.pyplot as plt\n",
    "signal = random.sample(range(1,100),64)\n",
    "#signal = np.array(range(128))\n",
    "N=len(signal) \n"
   ]
  },
  {
   "cell_type": "code",
   "execution_count": null,
   "metadata": {
    "collapsed": true
   },
   "outputs": [],
   "source": []
  },
  {
   "cell_type": "code",
   "execution_count": 18,
   "metadata": {
    "collapsed": false
   },
   "outputs": [],
   "source": [
    "w=N\n",
    "h=N\n",
    "matrix_dft = [[0 for x in range(w)] for y in range(h)] \n",
    "#np.shape(matrix_dft)\n",
    "W = np.exp(-1j*2*(np.pi)/N)\n",
    "W_N=[]\n",
    "for i in range(N):\n",
    "    W_N.append(W**i)\n",
    "DTFT=[] \n",
    "for j in range(N):\n",
    "    matrix_dft[j]= np.power(W_N,j)\n",
    "invert_dft = np.conjugate(matrix_dft)/N"
   ]
  },
  {
   "cell_type": "code",
   "execution_count": 19,
   "metadata": {
    "collapsed": false
   },
   "outputs": [],
   "source": [
    "matrix_dct = [[0 for x in range(N)] for y in range(N)]\n",
    "inverse_dct = [[0 for x in range(N)] for y in range(N)]\n",
    "\n",
    "#print(np.shape(matrix_dct))\n",
    "for i in range(N):\n",
    "    for j in range(N):\n",
    "        variable = 2*np.cos((np.pi*i*(2*j+1))/(2*N))\n",
    "        matrix_dct[i][j] = variable\n",
    "#print(matrix_dct)\n",
    "#print(np.shape(matrix_dct))\n",
    "\n",
    "for i in range(N):\n",
    "    for j in range(N):\n",
    "        #print(j)\n",
    "        variable = (np.cos((np.pi*j*(2*i+1))/(2*N)))/N\n",
    "        inverse_dct[i][j] = variable\n",
    "#numpy_dct = np.array(matrix_dct)\n",
    "#inverse_dct = inverse_dct/(2*N)\n",
    "for i in range(N):\n",
    "    inverse_dct[i][0] = inverse_dct[i][0]/2"
   ]
  },
  {
   "cell_type": "code",
   "execution_count": 20,
   "metadata": {
    "collapsed": false
   },
   "outputs": [],
   "source": [
    "num = np.sqrt(2)\n",
    "haar_initial = np.array([[1/num,1/num],[1/num,-1/num]])"
   ]
  },
  {
   "cell_type": "code",
   "execution_count": 21,
   "metadata": {
    "collapsed": false
   },
   "outputs": [],
   "source": [
    "def haar(length):\n",
    "    if(length == 1):\n",
    "        return haar_initial\n",
    "    #print(length)\n",
    "    #np.shape((np.kron(haar(length-1),haar_initial[0])))\n",
    "    haar_matrix = np.concatenate((np.kron(haar(length-1),haar_initial[0]),np.kron(np.identity(np.power(2,length-1)),haar_initial[1])),axis=0)\n",
    "    return haar_matrix    "
   ]
  },
  {
   "cell_type": "code",
   "execution_count": 22,
   "metadata": {
    "collapsed": false
   },
   "outputs": [],
   "source": [
    "\n",
    "power = 0\n",
    "divident = N\n",
    "while(divident/2 !=0):\n",
    "    power+=1\n",
    "    divident = divident/2\n",
    "haar_matrix =haar(power)   \n",
    "haar_inverse = np.transpose(haar_matrix)"
   ]
  },
  {
   "cell_type": "code",
   "execution_count": 23,
   "metadata": {
    "collapsed": false
   },
   "outputs": [
    {
     "name": "stdout",
     "output_type": "stream",
     "text": [
      "Please enter the number correspondingly : 1-DFT, 2-DCT, 3-Haar tranform 1\n"
     ]
    }
   ],
   "source": [
    "text = raw_input(\"Please enter the number correspondingly : 1-DFT, 2-DCT, 3-Haar tranform \")\n",
    "if(text == '1'):\n",
    "    dft_transform = np.matmul(matrix_dft,signal)\n",
    "if(text == '2'):\n",
    "    dct_transform = np.matmul(numpy_dct,signal)\n",
    "if(text == '3'):\n",
    "    haar_transform = np.matmul(haar_matrix,signal)\n",
    "            \n",
    "\n",
    "    "
   ]
  },
  {
   "cell_type": "code",
   "execution_count": 24,
   "metadata": {
    "collapsed": false
   },
   "outputs": [],
   "source": [
    "if(text == '1'):\n",
    "    idft_transform = np.matmul(invert_dft,dft_transform)\n",
    "if(text == '2'):\n",
    "    idct_transform = np.matmul(inverse_dct,dct_transform)\n",
    "if(text == '3'):\n",
    "    ihaar_transform = np.matmul(haar_inverse,haar_transform)\n",
    "    \n",
    "            \n"
   ]
  },
  {
   "cell_type": "code",
   "execution_count": 25,
   "metadata": {
    "collapsed": false
   },
   "outputs": [],
   "source": [
    "def modified_dft(array,L):\n",
    "    length = len(array)\n",
    "    i = (length+1-L)/2\n",
    "    while(i != ((length-1+L)/2)+1):\n",
    "        array[i]=0\n",
    "        i+=1\n",
    "    return array    "
   ]
  },
  {
   "cell_type": "code",
   "execution_count": 26,
   "metadata": {
    "collapsed": true
   },
   "outputs": [],
   "source": [
    "def modified_dct(array,L):\n",
    "    length = len(array)\n",
    "    i = length-L\n",
    "    while(i != length):\n",
    "        array[i]=0\n",
    "        i+=1\n",
    "    return array    "
   ]
  },
  {
   "cell_type": "code",
   "execution_count": 27,
   "metadata": {
    "collapsed": true
   },
   "outputs": [],
   "source": [
    "def modified_haar(array,L):\n",
    "    length = len(array)\n",
    "    i = (length-L)\n",
    "    while(i != length):\n",
    "        array[i]=0\n",
    "        i+=1\n",
    "    return array    "
   ]
  },
  {
   "cell_type": "code",
   "execution_count": 28,
   "metadata": {
    "collapsed": true
   },
   "outputs": [],
   "source": [
    "def energyerror(arrA,arrB):\n",
    "    length = len(arrA)\n",
    "    x = np.subtract(arrA,arrB)\n",
    "    result =(np.sum(np.square(x)))/length \n",
    "    return result"
   ]
  },
  {
   "cell_type": "code",
   "execution_count": 29,
   "metadata": {
    "collapsed": false
   },
   "outputs": [],
   "source": [
    "dft = np.matmul(matrix_dft,signal)\n",
    "dct = np.matmul(matrix_dct,signal)\n",
    "haar = np.matmul(haar_matrix,signal)\n",
    "errordft=[]\n",
    "errordct=[]\n",
    "errorhaar=[]\n",
    "for i in range(N):\n",
    "    \n",
    "    dftm = modified_dft(dft,i)\n",
    "    signalm = np.matmul(invert_dft,dftm)\n",
    "    errordft.append(np.real(energyerror(signal,signalm)))\n",
    "    dctm = modified_dct(dct,i)\n",
    "    signalm = np.matmul(inverse_dct,dctm)\n",
    "    errordct.append(np.real(energyerror(signal,signalm)))\n",
    "    haarm = modified_haar(haar,i)\n",
    "    signalm = np.matmul(haar_inverse,haarm)\n",
    "    errorhaar.append(np.real(energyerror(signal,signalm)))"
   ]
  },
  {
   "cell_type": "code",
   "execution_count": null,
   "metadata": {
    "collapsed": false
   },
   "outputs": [],
   "source": []
  },
  {
   "cell_type": "code",
   "execution_count": 31,
   "metadata": {
    "collapsed": false
   },
   "outputs": [
    {
     "data": {
      "image/png": "[encoded data removed]",
      "text/plain": [
       "<matplotlib.figure.Figure at 0x7a68048>"
      ]
     },
     "metadata": {},
     "output_type": "display_data"
    }
   ],
   "source": [
    "plt.plot(errordft,'r')\n",
    "plt.plot(errordct,'g')\n",
    "plt.plot(errorhaar,'b')\n",
    "plt.show()\n"
   ]
  },
  {
   "cell_type": "code",
   "execution_count": null,
   "metadata": {
    "collapsed": true
   },
   "outputs": [],
   "source": []
  }
 ],
 "metadata": {
  "kernelspec": {
   "display_name": "Python 2",
   "language": "python",
   "name": "python2"
  },
  "language_info": {
   "codemirror_mode": {
    "name": "ipython",
    "version": 2
   },
   "file_extension": ".py",
   "mimetype": "text/x-python",
   "name": "python",
   "nbconvert_exporter": "python",
   "pygments_lexer": "ipython2",
   "version": "2.7.13"
  }
 },
 "nbformat": 4,
 "nbformat_minor": 2
}
